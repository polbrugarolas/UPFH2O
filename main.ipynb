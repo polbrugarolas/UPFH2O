{
 "cells": [
  {
   "cell_type": "code",
   "execution_count": 1,
   "metadata": {},
   "outputs": [],
   "source": [
    "#IMPORTAT LIBRARIES\n",
    "import os\n",
    "import pandas as pd"
   ]
  },
  {
   "cell_type": "code",
   "execution_count": 2,
   "metadata": {},
   "outputs": [],
   "source": [
    "#DEFINE OF FUNCTIONS\n",
    "def load_datasets(folder_path):\n",
    "    datasets = {}\n",
    "    if not os.path.exists(folder_path):\n",
    "        print(f\"Error: La carpeta '{folder_path}' no existe.\")\n",
    "        return datasets\n",
    "\n",
    "    for filename in os.listdir(folder_path):\n",
    "        file_path = os.path.join(folder_path, filename)\n",
    "        try:\n",
    "            if filename.endswith('.csv'):\n",
    "                print(f\"Loading CSV dataset: {filename}\")\n",
    "                datasets[filename] = pd.read_csv(file_path, low_memory=False)\n",
    "            elif filename.endswith('.parquet'):\n",
    "                print(f\"Loading Parquet dataset: {filename}\")\n",
    "                datasets[filename] = pd.read_parquet(file_path)\n",
    "            elif filename.endswith('.json'):\n",
    "                print(f\"Loading JSON dataset: {filename}\")\n",
    "                datasets[filename] = pd.read_json(file_path)\n",
    "            else:\n",
    "                print(f\"Skipping file (unsupported format): {filename}\")\n",
    "        except Exception as e:\n",
    "            print(f\"Error loading {filename}: {e}\")\n",
    "    return datasets"
   ]
  },
  {
   "cell_type": "code",
   "execution_count": null,
   "metadata": {},
   "outputs": [
    {
     "ename": "NameError",
     "evalue": "name '__file__' is not defined",
     "output_type": "error",
     "traceback": [
      "\u001b[1;31m---------------------------------------------------------------------------\u001b[0m",
      "\u001b[1;31mNameError\u001b[0m                                 Traceback (most recent call last)",
      "Cell \u001b[1;32mIn[3], line 2\u001b[0m\n\u001b[0;32m      1\u001b[0m \u001b[38;5;66;03m#LOAD DATA FROM FILES\u001b[39;00m\n\u001b[1;32m----> 2\u001b[0m script_dir \u001b[38;5;241m=\u001b[39m os\u001b[38;5;241m.\u001b[39mpath\u001b[38;5;241m.\u001b[39mdirname(os\u001b[38;5;241m.\u001b[39mpath\u001b[38;5;241m.\u001b[39mabspath(\u001b[38;5;18;43m__file__\u001b[39;49m))\n\u001b[0;32m      3\u001b[0m folder_path \u001b[38;5;241m=\u001b[39m os\u001b[38;5;241m.\u001b[39mpath\u001b[38;5;241m.\u001b[39mjoin(script_dir, \u001b[38;5;124m'\u001b[39m\u001b[38;5;124mdatasets\u001b[39m\u001b[38;5;124m'\u001b[39m)\n\u001b[0;32m      4\u001b[0m datasets \u001b[38;5;241m=\u001b[39m load_datasets(folder_path)\n",
      "\u001b[1;31mNameError\u001b[0m: name '__file__' is not defined"
     ]
    }
   ],
   "source": [
    "#LOAD DATA FROM FILES\n",
    "script_dir = os.path.dirname(os.path.abspath(__file__))\n",
    "folder_path = os.path.join(script_dir, 'datasets')\n",
    "datasets = load_datasets(folder_path)"
   ]
  },
  {
   "cell_type": "code",
   "execution_count": null,
   "metadata": {},
   "outputs": [],
   "source": [
    "#PRINT EXAMPLES TO SEE IF IT WORKED\n",
    "if not datasets:\n",
    "    print(\"No datasets were loaded.\")\n",
    "else:\n",
    "    for name, data in datasets.items():\n",
    "        print(f\"\\nDataset: {name}\")\n",
    "        print(data.head())"
   ]
  }
 ],
 "metadata": {
  "kernelspec": {
   "display_name": "Python 3",
   "language": "python",
   "name": "python3"
  },
  "language_info": {
   "codemirror_mode": {
    "name": "ipython",
    "version": 3
   },
   "file_extension": ".py",
   "mimetype": "text/x-python",
   "name": "python",
   "nbconvert_exporter": "python",
   "pygments_lexer": "ipython3",
   "version": "3.12.1"
  }
 },
 "nbformat": 4,
 "nbformat_minor": 2
}
